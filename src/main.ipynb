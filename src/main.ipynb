{
 "cells": [
  {
   "cell_type": "code",
   "execution_count": 1,
   "metadata": {},
   "outputs": [],
   "source": [
    "import mnist_loader\n",
    "import network2\n",
    "training_data, validation_data, test_data = mnist_loader.load_data_wrapper()\n"
   ]
  },
  {
   "cell_type": "code",
   "execution_count": 3,
   "metadata": {},
   "outputs": [
    {
     "name": "stdout",
     "output_type": "stream",
     "text": [
      "Epoch 0 training complete\n",
      "Accuracy on evaluation data: 9289 / 10000\n",
      "Epoch 1 training complete\n",
      "Accuracy on evaluation data: 9418 / 10000\n",
      "Epoch 2 training complete\n",
      "Accuracy on evaluation data: 9506 / 10000\n",
      "Epoch 3 training complete\n",
      "Accuracy on evaluation data: 9542 / 10000\n",
      "Epoch 4 training complete\n",
      "Accuracy on evaluation data: 9548 / 10000\n"
     ]
    },
    {
     "data": {
      "text/plain": [
       "([], [9289, 9418, 9506, 9542, 9548], [], [])"
      ]
     },
     "execution_count": 3,
     "metadata": {},
     "output_type": "execute_result"
    }
   ],
   "source": [
    "net = network2.Network([784, 100, 10], cost=network2.CrossEntropyCost)\n",
    "net.large_weight_initializer()\n",
    "net.SGD(training_data, 5, 15, 1, evaluation_data=test_data, monitor_evaluation_accuracy=True)\n"
   ]
  },
  {
   "cell_type": "code",
   "execution_count": null,
   "metadata": {},
   "outputs": [],
   "source": [
    "\n"
   ]
  }
 ],
 "metadata": {
  "kernelspec": {
   "display_name": "Python 3",
   "language": "python",
   "name": "python3"
  },
  "language_info": {
   "codemirror_mode": {
    "name": "ipython",
    "version": 3
   },
   "file_extension": ".py",
   "mimetype": "text/x-python",
   "name": "python",
   "nbconvert_exporter": "python",
   "pygments_lexer": "ipython3",
   "version": "3.10.4"
  },
  "orig_nbformat": 4
 },
 "nbformat": 4,
 "nbformat_minor": 2
}
